{
 "cells": [
  {
   "cell_type": "code",
   "execution_count": 1,
   "id": "7bc6c505",
   "metadata": {},
   "outputs": [
    {
     "name": "stdout",
     "output_type": "stream",
     "text": [
      "6\n"
     ]
    }
   ],
   "source": [
    "a=3\n",
    "b=a*2\n",
    "print(b)"
   ]
  },
  {
   "cell_type": "code",
   "execution_count": 2,
   "id": "b505466c",
   "metadata": {},
   "outputs": [
    {
     "name": "stdout",
     "output_type": "stream",
     "text": [
      "11\n"
     ]
    }
   ],
   "source": [
    "c=5\n",
    "d=6\n",
    "print(c+d)"
   ]
  },
  {
   "cell_type": "code",
   "execution_count": 3,
   "id": "451f4eb4",
   "metadata": {},
   "outputs": [
    {
     "name": "stdout",
     "output_type": "stream",
     "text": [
      "Hello class welcome to CS150\n"
     ]
    }
   ],
   "source": [
    "print(\"Hello class welcome to CS150\")"
   ]
  },
  {
   "cell_type": "markdown",
   "id": "a028a41c",
   "metadata": {},
   "source": [
    "# Heading1"
   ]
  },
  {
   "cell_type": "markdown",
   "id": "1e402915",
   "metadata": {},
   "source": [
    "## Heading2"
   ]
  },
  {
   "cell_type": "markdown",
   "id": "7a13d368",
   "metadata": {},
   "source": [
    "### Heading3"
   ]
  },
  {
   "cell_type": "markdown",
   "id": "743bc10c",
   "metadata": {},
   "source": [
    "#### Heading4"
   ]
  },
  {
   "cell_type": "markdown",
   "id": "67d14e09",
   "metadata": {},
   "source": [
    "##### Heading 5"
   ]
  },
  {
   "cell_type": "markdown",
   "id": "77f915f3",
   "metadata": {},
   "source": [
    "###### Heading6"
   ]
  },
  {
   "cell_type": "markdown",
   "id": "e82ffacf",
   "metadata": {},
   "source": [
    "> This is a good day"
   ]
  },
  {
   "cell_type": "markdown",
   "id": "eb4890e7",
   "metadata": {},
   "source": [
    "* list 1\n",
    "* list 2"
   ]
  },
  {
   "cell_type": "markdown",
   "id": "facf2146",
   "metadata": {},
   "source": [
    "1. ordered list 1\n",
    "2. ordered list 2"
   ]
  },
  {
   "cell_type": "markdown",
   "id": "56bf921b",
   "metadata": {},
   "source": [
    "**These are bold words**"
   ]
  },
  {
   "cell_type": "markdown",
   "id": "d67d567b",
   "metadata": {},
   "source": [
    "*These are italicized words*"
   ]
  },
  {
   "cell_type": "markdown",
   "id": "42929cfb",
   "metadata": {},
   "source": [
    "`Here is a code for printing statements!`"
   ]
  },
  {
   "cell_type": "markdown",
   "id": "75af5243",
   "metadata": {},
   "source": [
    "<a href=\"https://www.google.com/\">Google</a>"
   ]
  },
  {
   "cell_type": "markdown",
   "id": "0413bd57",
   "metadata": {},
   "source": [
    "![Pink Flower](data:image/jpeg;base64,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)"
   ]
  },
  {
   "cell_type": "code",
   "execution_count": null,
   "id": "eacc4839",
   "metadata": {},
   "outputs": [],
   "source": []
  }
 ],
 "metadata": {
  "kernelspec": {
   "display_name": "Python 3 (ipykernel)",
   "language": "python",
   "name": "python3"
  },
  "language_info": {
   "codemirror_mode": {
    "name": "ipython",
    "version": 3
   },
   "file_extension": ".py",
   "mimetype": "text/x-python",
   "name": "python",
   "nbconvert_exporter": "python",
   "pygments_lexer": "ipython3",
   "version": "3.9.12"
  }
 },
 "nbformat": 4,
 "nbformat_minor": 5
}
